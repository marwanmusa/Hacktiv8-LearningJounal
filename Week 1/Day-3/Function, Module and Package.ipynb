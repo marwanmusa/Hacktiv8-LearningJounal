{
 "cells": [
  {
   "cell_type": "markdown",
   "metadata": {},
   "source": [
    "## Function"
   ]
  },
  {
   "cell_type": "code",
   "execution_count": 3,
   "metadata": {},
   "outputs": [
    {
     "name": "stdout",
     "output_type": "stream",
     "text": [
      "Hello World\n"
     ]
    }
   ],
   "source": [
    "def halo():\n",
    "    print('Hello World')\n",
    "    \n",
    "halo()"
   ]
  },
  {
   "cell_type": "markdown",
   "metadata": {},
   "source": [
    "### Function with args"
   ]
  },
  {
   "cell_type": "code",
   "execution_count": 23,
   "metadata": {},
   "outputs": [
    {
     "name": "stdout",
     "output_type": "stream",
     "text": [
      "alas = 2\n",
      "tinggi = 3\n",
      "luas = 3.0\n"
     ]
    }
   ],
   "source": [
    "\n",
    "def luas_segitiga(alas,tinggi):\n",
    "    luas = (alas * tinggi)*1/2\n",
    "    print(f'alas = {alas}\\ntinggi = {tinggi}\\nluas = {luas}')\n",
    "    return \n",
    "\n",
    "luas_segitiga(2,3)"
   ]
  },
  {
   "cell_type": "code",
   "execution_count": 25,
   "metadata": {},
   "outputs": [
    {
     "name": "stdout",
     "output_type": "stream",
     "text": [
      "panjang = 4\n",
      "lebar = 3\n",
      "keliling = 14\n"
     ]
    }
   ],
   "source": [
    "def keliling(panjang,lebar):\n",
    "    keliling = (2 * panjang) + (2 * lebar)\n",
    "    print(f'panjang = {panjang}\\nlebar = {lebar}\\nkeliling = {keliling}')\n",
    "    \n",
    "keliling(4,3)"
   ]
  },
  {
   "cell_type": "markdown",
   "metadata": {},
   "source": [
    "### *ARGS and **KWARGS"
   ]
  },
  {
   "cell_type": "markdown",
   "metadata": {},
   "source": [
    "#### Arbitrary Arguments - *ARGS"
   ]
  },
  {
   "cell_type": "code",
   "execution_count": 26,
   "metadata": {},
   "outputs": [
    {
     "name": "stdout",
     "output_type": "stream",
     "text": [
      "Teman saya adalah cika\n"
     ]
    }
   ],
   "source": [
    "def my_function(*nama):\n",
    "    print(\"Teman saya adalah \" + nama[2])\n",
    "    \n",
    "my_function(\"mail\", \"naim\", \"cika\")"
   ]
  },
  {
   "cell_type": "markdown",
   "metadata": {},
   "source": [
    "#### Arbitrary Keyword Arguments - **KWARGS"
   ]
  },
  {
   "cell_type": "code",
   "execution_count": 28,
   "metadata": {},
   "outputs": [
    {
     "name": "stdout",
     "output_type": "stream",
     "text": [
      "nama teman saya adalah ica\n"
     ]
    }
   ],
   "source": [
    "def my_function(name3,name2,name1):\n",
    "    print(\"nama teman saya adalah \" + name3)\n",
    "    \n",
    "my_function(name1=\"cika\",name2=\"abi\",name3=\"ica\")"
   ]
  },
  {
   "cell_type": "code",
   "execution_count": 29,
   "metadata": {},
   "outputs": [
    {
     "name": "stdout",
     "output_type": "stream",
     "text": [
      "nama dia adalah hera\n"
     ]
    }
   ],
   "source": [
    "def my_function1(**nama):\n",
    "    print('nama dia adalah', nama['nama1'])\n",
    "    \n",
    "my_function1(nama1='hera',nama2='dit',nama3='gun')"
   ]
  },
  {
   "cell_type": "markdown",
   "metadata": {},
   "source": [
    "### Default Parameter Value"
   ]
  },
  {
   "cell_type": "code",
   "execution_count": 33,
   "metadata": {},
   "outputs": [
    {
     "name": "stdout",
     "output_type": "stream",
     "text": [
      "I am from  Indonesia\n",
      "I am from  Swiss\n"
     ]
    }
   ],
   "source": [
    "def my_country(country = 'Indonesia'):\n",
    "    print('I am from ', country)\n",
    "my_country() #menghasilkan nilai default\n",
    "my_country('Swiss')"
   ]
  },
  {
   "cell_type": "markdown",
   "metadata": {},
   "source": [
    "### Global Variable"
   ]
  },
  {
   "cell_type": "code",
   "execution_count": 41,
   "metadata": {},
   "outputs": [
    {
     "name": "stdout",
     "output_type": "stream",
     "text": [
      "this student is genius\n",
      "I am execelent\n"
     ]
    }
   ],
   "source": [
    "x = 'execelent'\n",
    "\n",
    "def myfunc():\n",
    "    x = 'genius'\n",
    "    print('this student is', x)\n",
    "    \n",
    "myfunc() #this function uses local var in myfunc()\n",
    "print('I am', x) #using global var"
   ]
  },
  {
   "cell_type": "code",
   "execution_count": 43,
   "metadata": {},
   "outputs": [
    {
     "data": {
      "text/plain": [
       "[4, 6]"
      ]
     },
     "execution_count": 43,
     "metadata": {},
     "output_type": "execute_result"
    }
   ],
   "source": [
    "def gin(a,b):\n",
    "    k = a + 2\n",
    "    v = b + 3\n",
    "    return [k,v]\n",
    "gin(2,3)"
   ]
  },
  {
   "cell_type": "markdown",
   "metadata": {},
   "source": [
    "### Lambda Function"
   ]
  },
  {
   "cell_type": "code",
   "execution_count": 49,
   "metadata": {},
   "outputs": [],
   "source": [
    "#Wiithout lambda func\n",
    "def square_sum(x,y):\n",
    "    return x**2 + y**2\n",
    "\n",
    "p = lambda x,y : x**2 + y**2"
   ]
  },
  {
   "cell_type": "code",
   "execution_count": 57,
   "metadata": {},
   "outputs": [
    {
     "name": "stdout",
     "output_type": "stream",
     "text": [
      "Helo hana\n"
     ]
    }
   ],
   "source": [
    "greeting = lambda name : print(f'Helo', name)\n",
    "sapa = greeting\n",
    "sapa('hana')"
   ]
  },
  {
   "cell_type": "markdown",
   "metadata": {},
   "source": [
    "### Module & Package\n",
    "\n",
    "- Module is a set of functions\n",
    "- Package is a set of module"
   ]
  }
 ],
 "metadata": {
  "interpreter": {
   "hash": "213524bb45a1aeaf737b1d8c77d7b8db5d425938d9dffc5f4bc6fe6dd3324700"
  },
  "kernelspec": {
   "display_name": "Python 3.10.2 64-bit",
   "language": "python",
   "name": "python3"
  },
  "language_info": {
   "codemirror_mode": {
    "name": "ipython",
    "version": 3
   },
   "file_extension": ".py",
   "mimetype": "text/x-python",
   "name": "python",
   "nbconvert_exporter": "python",
   "pygments_lexer": "ipython3",
   "version": "3.10.2"
  },
  "orig_nbformat": 4
 },
 "nbformat": 4,
 "nbformat_minor": 2
}
