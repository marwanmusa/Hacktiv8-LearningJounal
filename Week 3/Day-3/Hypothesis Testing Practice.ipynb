{
  "cells": [
    {
      "cell_type": "code",
      "execution_count": 1,
      "metadata": {
        "id": "NNpSO3ChMVln"
      },
      "outputs": [],
      "source": [
        "import numpy as np\n",
        "import matplotlib.pyplot as plt"
      ]
    },
    {
      "cell_type": "code",
      "execution_count": 2,
      "metadata": {
        "id": "FnfZ5usqMbud"
      },
      "outputs": [],
      "source": [
        "# sembuh dari covid berkat obat A\n",
        "treatment = [ 28.44,  32.32,  31.22,  29.58,  30.34,  30.76,  29.21,  30.4 ,\n",
        "              31.12,  31.78,  27.58,  31.57,  35.73,  30.43,  30.31,  30.32,\n",
        "              29.18,  29.52,  29.22,  31.56]\n",
        "\n",
        "# sembuh dari covid tanpa obat A\n",
        "control = [ 33.51,  30.63,  32.38,  32.52,  29.41,  30.93,  49.78,  28.96,\n",
        "            35.77,  31.42,  30.76,  30.6 ,  23.64,  30.54,  47.78,  31.98,\n",
        "            34.52,  32.42,  31.32,  40.72]"
      ]
    },
    {
      "cell_type": "markdown",
      "metadata": {},
      "source": [
        "# Hypotesis\n",
        "H0 : Tidak ada perbedaan signifikan antara pemberian obat A ataupun tidak dakam penyembuhan covid-19\n",
        "\n",
        "H1 : Ada perbedaan diantara keduanya\n",
        "\n",
        "--------\n",
        "\n",
        "H0 : m1 = m2 -> m1 - m2 = 0\n",
        "\n",
        "H1 : m1 != m2 -> m1 - m2 != 0"
      ]
    },
    {
      "cell_type": "code",
      "execution_count": 3,
      "metadata": {
        "id": "SkZV1u9tQJO6"
      },
      "outputs": [
        {
          "data": {
            "text/plain": [
              "2.9499999999999993"
            ]
          },
          "execution_count": 3,
          "metadata": {},
          "output_type": "execute_result"
        }
      ],
      "source": [
        "# hitung selisih data sample / ground truth\n",
        "ground_truth = np.abs(np.mean(treatment) - np.mean(control))\n",
        "ground_truth"
      ]
    },
    {
      "cell_type": "code",
      "execution_count": 4,
      "metadata": {},
      "outputs": [
        {
          "data": {
            "text/plain": [
              "array([28.44, 32.32, 31.22, 29.58, 30.34, 30.76, 29.21, 30.4 , 31.12,\n",
              "       31.78, 27.58, 31.57, 35.73, 30.43, 30.31, 30.32, 29.18, 29.52,\n",
              "       29.22, 31.56, 33.51, 30.63, 32.38, 32.52, 29.41, 30.93, 49.78,\n",
              "       28.96, 35.77, 31.42, 30.76, 30.6 , 23.64, 30.54, 47.78, 31.98,\n",
              "       34.52, 32.42, 31.32, 40.72])"
            ]
          },
          "execution_count": 4,
          "metadata": {},
          "output_type": "execute_result"
        }
      ],
      "source": [
        "#gabung data\n",
        "concat = np.concatenate([treatment,control])\n",
        "concat"
      ]
    },
    {
      "cell_type": "code",
      "execution_count": 5,
      "metadata": {},
      "outputs": [],
      "source": [
        "#list baru dari selisih hasil resample\n",
        "diff = []\n",
        "p = 100\n",
        "np.random.seed(46) # reproduciable\n",
        "\n",
        "for i in range(p):\n",
        "    #acak data concat\n",
        "    np.random.shuffle(concat)\n",
        "    #ambil 20 data pertama sebagai treatment\n",
        "    treatment_p = concat[:20]\n",
        "    #ambil sebagai control\n",
        "    control_p = concat[20:]\n",
        "    #hitung selisih rata-rata absolut\n",
        "    d = np.abs(np.mean(treatment_p) - np.mean(control_p))\n",
        "    diff.append(d)"
      ]
    },
    {
      "cell_type": "code",
      "execution_count": 6,
      "metadata": {},
      "outputs": [
        {
          "data": {
            "text/plain": [
              "[0.9739999999999931,\n",
              " 1.0570000000000022,\n",
              " 0.21800000000000352,\n",
              " 0.3240000000000052,\n",
              " 0.5629999999999917,\n",
              " 0.5920000000000094,\n",
              " 1.0920000000000094,\n",
              " 2.3389999999999915,\n",
              " 0.22099999999999653,\n",
              " 0.9759999999999991,\n",
              " 0.9179999999999993,\n",
              " 0.3819999999999979,\n",
              " 1.291999999999998,\n",
              " 1.1349999999999945,\n",
              " 0.26800000000000423,\n",
              " 0.6489999999999974,\n",
              " 1.8830000000000062,\n",
              " 0.02500000000000213,\n",
              " 0.06699999999999307,\n",
              " 0.39399999999999125,\n",
              " 2.45999999999999,\n",
              " 2.078000000000003,\n",
              " 0.43800000000000594,\n",
              " 3.3910000000000053,\n",
              " 0.13700000000000045,\n",
              " 0.8850000000000016,\n",
              " 1.2580000000000062,\n",
              " 0.1869999999999905,\n",
              " 2.033999999999992,\n",
              " 2.872999999999994,\n",
              " 1.2709999999999937,\n",
              " 0.8359999999999985,\n",
              " 2.3220000000000063,\n",
              " 0.5919999999999987,\n",
              " 0.3419999999999952,\n",
              " 1.6619999999999955,\n",
              " 0.9050000000000011,\n",
              " 1.5820000000000043,\n",
              " 2.248000000000001,\n",
              " 1.284999999999993,\n",
              " 0.7360000000000078,\n",
              " 2.449000000000005,\n",
              " 0.7909999999999968,\n",
              " 0.4229999999999947,\n",
              " 1.4070000000000107,\n",
              " 0.8369999999999997,\n",
              " 0.8339999999999961,\n",
              " 3.0030000000000108,\n",
              " 2.4600000000000044,\n",
              " 0.10999999999999943,\n",
              " 2.404,\n",
              " 0.5440000000000005,\n",
              " 2.785000000000011,\n",
              " 0.8190000000000097,\n",
              " 0.9249999999999972,\n",
              " 2.5269999999999975,\n",
              " 1.9639999999999915,\n",
              " 2.581000000000003,\n",
              " 0.5520000000000067,\n",
              " 0.379999999999999,\n",
              " 1.0349999999999966,\n",
              " 1.3010000000000055,\n",
              " 1.5459999999999923,\n",
              " 2.772999999999996,\n",
              " 2.3489999999999966,\n",
              " 1.982999999999997,\n",
              " 1.9540000000000077,\n",
              " 1.5169999999999995,\n",
              " 1.4819999999999993,\n",
              " 2.0339999999999883,\n",
              " 2.257999999999999,\n",
              " 0.42500000000000426,\n",
              " 1.9349999999999952,\n",
              " 1.831000000000003,\n",
              " 2.784999999999993,\n",
              " 0.18900000000000006,\n",
              " 1.1370000000000182,\n",
              " 1.1660000000000004,\n",
              " 0.23899999999999366,\n",
              " 0.3809999999999967,\n",
              " 1.4189999999999863,\n",
              " 0.7280000000000015,\n",
              " 1.3160000000000025,\n",
              " 0.23599999999999355,\n",
              " 1.5090000000000074,\n",
              " 0.34699999999999775,\n",
              " 0.387000000000004,\n",
              " 1.8870000000000005,\n",
              " 0.8410000000000082,\n",
              " 1.3829999999999991,\n",
              " 1.6070000000000064,\n",
              " 0.5649999999999977,\n",
              " 1.3230000000000146,\n",
              " 0.2799999999999976,\n",
              " 0.6280000000000037,\n",
              " 0.740999999999989,\n",
              " 0.5340000000000025,\n",
              " 1.455999999999996,\n",
              " 2.4860000000000007,\n",
              " 0.3429999999999893]"
            ]
          },
          "execution_count": 6,
          "metadata": {},
          "output_type": "execute_result"
        }
      ],
      "source": [
        "diff"
      ]
    },
    {
      "cell_type": "code",
      "execution_count": 7,
      "metadata": {},
      "outputs": [
        {
          "data": {
            "text/plain": [
              "array([23, 47], dtype=int64)"
            ]
          },
          "execution_count": 7,
          "metadata": {},
          "output_type": "execute_result"
        }
      ],
      "source": [
        "np.where(diff >= ground_truth)[0]"
      ]
    },
    {
      "cell_type": "code",
      "execution_count": 8,
      "metadata": {},
      "outputs": [
        {
          "data": {
            "text/plain": [
              "0.02"
            ]
          },
          "execution_count": 8,
          "metadata": {},
          "output_type": "execute_result"
        }
      ],
      "source": [
        "p_value = len(np.where(diff >= ground_truth)[0]) / p\n",
        "p_value"
      ]
    },
    {
      "cell_type": "code",
      "execution_count": 9,
      "metadata": {},
      "outputs": [
        {
          "data": {
            "text/plain": [
              "<matplotlib.lines.Line2D at 0x26283df5c90>"
            ]
          },
          "execution_count": 9,
          "metadata": {},
          "output_type": "execute_result"
        },
        {
          "data": {
            "image/png": "[encoded data removed]",
            "text/plain": [
              "<Figure size 1152x576 with 1 Axes>"
            ]
          },
          "metadata": {
            "needs_background": "light"
          },
          "output_type": "display_data"
        }
      ],
      "source": [
        "plt.figure(1, figsize=(16,8))\n",
        "plt.hist(diff, bins=20)\n",
        "plt.axvline(x=ground_truth)"
      ]
    },
    {
      "cell_type": "markdown",
      "metadata": {},
      "source": [
        "Distribusi Normal"
      ]
    },
    {
      "cell_type": "code",
      "execution_count": 12,
      "metadata": {},
      "outputs": [
        {
          "data": {
            "text/plain": [
              "[<matplotlib.lines.Line2D at 0x26297a44580>]"
            ]
          },
          "execution_count": 12,
          "metadata": {},
          "output_type": "execute_result"
        },
        {
          "data": {
            "image/png": "[encoded data removed]",
            "text/plain": [
              "<Figure size 432x288 with 1 Axes>"
            ]
          },
          "metadata": {
            "needs_background": "light"
          },
          "output_type": "display_data"
        }
      ],
      "source": [
        "from scipy.stats import norm\n",
        "\n",
        "# pdf normal\n",
        "x = np.linspace(-3, 3)\n",
        "p = norm.pdf(x, 0, 1)\n",
        "\n",
        "plt.plot(x, p, 'k')"
      ]
    },
    {
      "cell_type": "code",
      "execution_count": 15,
      "metadata": {},
      "outputs": [
        {
          "data": {
            "text/plain": [
              "(array([ 1.,  1.,  2.,  2.,  5.,  4., 13., 12., 16., 12., 18., 21., 18.,\n",
              "        17., 28., 15., 17.,  6., 11., 15.,  9.,  2.,  2.,  1.,  2.]),\n",
              " array([142.54941143, 144.64370129, 146.73799115, 148.83228101,\n",
              "        150.92657087, 153.02086072, 155.11515058, 157.20944044,\n",
              "        159.3037303 , 161.39802016, 163.49231001, 165.58659987,\n",
              "        167.68088973, 169.77517959, 171.86946945, 173.9637593 ,\n",
              "        176.05804916, 178.15233902, 180.24662888, 182.34091874,\n",
              "        184.4352086 , 186.52949845, 188.62378831, 190.71807817,\n",
              "        192.81236803, 194.90665789]),\n",
              " <BarContainer object of 25 artists>)"
            ]
          },
          "execution_count": 15,
          "metadata": {},
          "output_type": "execute_result"
        },
        {
          "data": {
            "image/png": "[encoded data removed]",
            "text/plain": [
              "<Figure size 432x288 with 1 Axes>"
            ]
          },
          "metadata": {
            "needs_background": "light"
          },
          "output_type": "display_data"
        }
      ],
      "source": [
        "data = np.random.normal(170, 10, 250) #mean, std, banyak data\n",
        "plt.hist(data, bins=25)"
      ]
    },
    {
      "cell_type": "code",
      "execution_count": 18,
      "metadata": {},
      "outputs": [
        {
          "data": {
            "text/plain": [
              "[<matplotlib.lines.Line2D at 0x26297b7ebf0>]"
            ]
          },
          "execution_count": 18,
          "metadata": {},
          "output_type": "execute_result"
        },
        {
          "data": {
            "image/png": "[encoded data removed]",
            "text/plain": [
              "<Figure size 432x288 with 1 Axes>"
            ]
          },
          "metadata": {
            "needs_background": "light"
          },
          "output_type": "display_data"
        }
      ],
      "source": [
        "mu = data.mean()\n",
        "std = data.std()\n",
        "\n",
        "plt.hist(data, bins=25, density=True)\n",
        "\n",
        "xmin, xmax = plt.xlim()\n",
        "x = np.linspace(xmin, xmax, 100)\n",
        "p = norm.pdf(x, mu, std)\n",
        "\n",
        "plt.plot(x, p, 'k', linewidth=2)"
      ]
    }
  ],
  "metadata": {
    "colab": {
      "name": "Untitled15.ipynb",
      "provenance": []
    },
    "interpreter": {
      "hash": "213524bb45a1aeaf737b1d8c77d7b8db5d425938d9dffc5f4bc6fe6dd3324700"
    },
    "kernelspec": {
      "display_name": "Python 3.10.2 64-bit",
      "language": "python",
      "name": "python3"
    },
    "language_info": {
      "codemirror_mode": {
        "name": "ipython",
        "version": 3
      },
      "file_extension": ".py",
      "mimetype": "text/x-python",
      "name": "python",
      "nbconvert_exporter": "python",
      "pygments_lexer": "ipython3",
      "version": "3.10.2"
    }
  },
  "nbformat": 4,
  "nbformat_minor": 0
}
