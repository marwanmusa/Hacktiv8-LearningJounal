{
 "cells": [
  {
   "cell_type": "markdown",
   "metadata": {},
   "source": [
    "## *Web Scrapping with Selenium*"
   ]
  },
  {
   "cell_type": "code",
   "execution_count": 5,
   "metadata": {},
   "outputs": [],
   "source": [
    "from bs4 import BeautifulSoup\n",
    "import requests\n",
    "from selenium import webdriver\n",
    "import pandas as pd\n",
    "import time"
   ]
  },
  {
   "cell_type": "code",
   "execution_count": 4,
   "metadata": {},
   "outputs": [],
   "source": [
    "driver = webdriver.Chrome('chromedriver')\n",
    "driver.get('https://news.ycombinator.com/')"
   ]
  },
  {
   "cell_type": "code",
   "execution_count": 8,
   "metadata": {},
   "outputs": [],
   "source": [
    "def scrap():\n",
    "\n",
    "    data1 = []\n",
    "    data2 = []\n",
    "\n",
    "    for i in range(1,3):\n",
    "        url ='https://news.ycombinator.com/news?p={}'.format(i)\n",
    "        driver.get(url)\n",
    "        response = requests.get('https://news.ycombinator.com/').text\n",
    "        soup = BeautifulSoup(response,'lxml')\n",
    "\n",
    "        data1 += [title.text for title in soup.find_all('a',class_='titlelink')]\n",
    "        data2 += [info['href'] for info in soup.find_all('a',class_='titlelink')]\n",
    "\n",
    "        data_final = pd.DataFrame()\n",
    "        data_final['title'] = data1\n",
    "        data_final['info'] = data2\n",
    "    \n",
    "    data_final.to_csv(r'E:\\Hacktiv8 Bootcamp\\Learning Journal\\Phase 0\\Week 3\\Day-5\\data_final.csv',index=False)\n"
   ]
  },
  {
   "cell_type": "code",
   "execution_count": 9,
   "metadata": {},
   "outputs": [
    {
     "name": "stdout",
     "output_type": "stream",
     "text": [
      "run ke 1\n",
      "time wait  1 menit\n",
      "run ke 2\n",
      "time wait  1 menit\n",
      "run ke 3\n",
      "time wait  1 menit\n",
      "run ke 4\n",
      "time wait  1 menit\n",
      "run ke 5\n",
      "time wait  1 menit\n",
      "run ke 6\n",
      "time wait  1 menit\n",
      "run ke 7\n",
      "time wait  1 menit\n",
      "run ke 8\n",
      "time wait  1 menit\n",
      "run ke 9\n",
      "time wait  1 menit\n",
      "run ke 10\n",
      "time wait  1 menit\n",
      "run ke 11\n",
      "time wait  1 menit\n"
     ]
    },
    {
     "ename": "KeyboardInterrupt",
     "evalue": "",
     "output_type": "error",
     "traceback": [
      "\u001b[1;31m---------------------------------------------------------------------------\u001b[0m",
      "\u001b[1;31mKeyboardInterrupt\u001b[0m                         Traceback (most recent call last)",
      "\u001b[1;32me:\\Hacktiv8 Bootcamp\\Learning Journal\\Phase 0\\Week 3\\Day-5\\selenium.ipynb Cell 4'\u001b[0m in \u001b[0;36m<cell line: 2>\u001b[1;34m()\u001b[0m\n\u001b[0;32m      <a href='vscode-notebook-cell:/e%3A/Hacktiv8%20Bootcamp/Learning%20Journal/Phase%200/Week%203/Day-5/selenium.ipynb#ch0000003?line=5'>6</a>\u001b[0m \u001b[39mprint\u001b[39m(\u001b[39mf\u001b[39m\u001b[39m'\u001b[39m\u001b[39mrun ke \u001b[39m\u001b[39m{\u001b[39;00mindex\u001b[39m}\u001b[39;00m\u001b[39m'\u001b[39m)\n\u001b[0;32m      <a href='vscode-notebook-cell:/e%3A/Hacktiv8%20Bootcamp/Learning%20Journal/Phase%200/Week%203/Day-5/selenium.ipynb#ch0000003?line=6'>7</a>\u001b[0m \u001b[39mprint\u001b[39m(\u001b[39mf\u001b[39m\u001b[39m'\u001b[39m\u001b[39mtime wait  \u001b[39m\u001b[39m{\u001b[39;00mtime_wait\u001b[39m}\u001b[39;00m\u001b[39m menit\u001b[39m\u001b[39m'\u001b[39m)\n\u001b[1;32m----> <a href='vscode-notebook-cell:/e%3A/Hacktiv8%20Bootcamp/Learning%20Journal/Phase%200/Week%203/Day-5/selenium.ipynb#ch0000003?line=7'>8</a>\u001b[0m time\u001b[39m.\u001b[39;49msleep(time_wait\u001b[39m*\u001b[39;49m\u001b[39m60\u001b[39;49m)\n",
      "\u001b[1;31mKeyboardInterrupt\u001b[0m: "
     ]
    }
   ],
   "source": [
    "index = 0\n",
    "while True :\n",
    "    scrap()\n",
    "    index +=1\n",
    "    time_wait = 1\n",
    "    print(f'run ke {index}')\n",
    "    print(f'time wait  {time_wait} menit')\n",
    "    time.sleep(time_wait*60)"
   ]
  }
 ],
 "metadata": {
  "interpreter": {
   "hash": "213524bb45a1aeaf737b1d8c77d7b8db5d425938d9dffc5f4bc6fe6dd3324700"
  },
  "kernelspec": {
   "display_name": "Python 3.10.2 64-bit",
   "language": "python",
   "name": "python3"
  },
  "language_info": {
   "codemirror_mode": {
    "name": "ipython",
    "version": 3
   },
   "file_extension": ".py",
   "mimetype": "text/x-python",
   "name": "python",
   "nbconvert_exporter": "python",
   "pygments_lexer": "ipython3",
   "version": "3.10.2"
  },
  "orig_nbformat": 4
 },
 "nbformat": 4,
 "nbformat_minor": 2
}
