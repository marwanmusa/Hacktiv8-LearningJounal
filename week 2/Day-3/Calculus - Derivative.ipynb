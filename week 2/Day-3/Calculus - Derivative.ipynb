{
 "cells": [
  {
   "cell_type": "code",
   "execution_count": 9,
   "metadata": {},
   "outputs": [],
   "source": [
    "import sympy"
   ]
  },
  {
   "cell_type": "markdown",
   "metadata": {},
   "source": [
    "```java\n",
    "With the help of sympy.Derivative() method, we can create an unevaluated derivative of a SymPy expression. It has the same syntax as diff() method. To evaluate an unevaluated derivative, use the doit() method."
   ]
  },
  {
   "cell_type": "markdown",
   "metadata": {},
   "source": [
    "```php\n",
    "Syntax: Derivative(expression, reference variable) \n",
    "Parameters : \n",
    "expression – A SymPy expression whose unevaluated derivative is found.\n",
    "reference variable – Variable with respect to which derivative is found.\n",
    "Returns: Returns an unevaluated derivative of the given expression."
   ]
  },
  {
   "cell_type": "markdown",
   "metadata": {},
   "source": [
    "### *sympy.Derivative() method*"
   ]
  },
  {
   "cell_type": "markdown",
   "metadata": {},
   "source": [
    "*One-Variable*"
   ]
  },
  {
   "cell_type": "code",
   "execution_count": 1,
   "metadata": {},
   "outputs": [
    {
     "name": "stdout",
     "output_type": "stream",
     "text": [
      "Expression : x**2 + y**3 + 2*y \n",
      "Derivative of expression with respect to x : Derivative(x**2 + y**3 + 2*y, x)\n",
      "Value of the derivative : 2*x \n"
     ]
    }
   ],
   "source": [
    "# import sympy \n",
    "from sympy import * \n",
    "  \n",
    "x, y = symbols('x y')\n",
    "expr = x**2 + 2 * y + y**3\n",
    "print(\"Expression : {} \".format(expr))\n",
    "   \n",
    "# Use sympy.Derivative() method \n",
    "expr_diff = Derivative(expr, x)  \n",
    "      \n",
    "print(\"Derivative of expression with respect to x : {}\".format(expr_diff))  \n",
    "print(\"Value of the derivative : {} \".format(expr_diff.doit()))"
   ]
  },
  {
   "cell_type": "markdown",
   "metadata": {},
   "source": [
    "*Two-Variable*"
   ]
  },
  {
   "cell_type": "code",
   "execution_count": null,
   "metadata": {},
   "outputs": [],
   "source": [
    "x, y = symbols('x y')\n",
    "expr = y**2 * x**2 + 2 * y*x + x**3 * y**3\n",
    "print(\"Expression : {} \".format(expr))\n",
    "   \n",
    "# Use sympy.Derivative() method \n",
    "expr_diff = Derivative(expr, x, y)  \n",
    "      \n",
    "print(\"Derivative of expression with respect to x : {}\".format(expr_diff))  \n",
    "print(\"Value of the derivative : {} \".format(expr_diff.doit()))"
   ]
  },
  {
   "cell_type": "markdown",
   "metadata": {},
   "source": [
    "### *sympy.diff() method*"
   ]
  },
  {
   "cell_type": "code",
   "execution_count": 20,
   "metadata": {},
   "outputs": [
    {
     "name": "stdout",
     "output_type": "stream",
     "text": [
      "Before Differentiation : x**2 + 2*x*y + y**2\n",
      "After Differentiation : 2*x + 2*y\n"
     ]
    }
   ],
   "source": [
    "f_exp = x + y\n",
    "exp = sympy.expand(f_exp**2)\n",
    "print(\"Before Differentiation : {}\".format(exp))\n",
    "  \n",
    "# Use sympy.diff() method\n",
    "dif = diff(exp, x)\n",
    "  \n",
    "print(\"After Differentiation : {}\".format(dif))"
   ]
  },
  {
   "cell_type": "code",
   "execution_count": 16,
   "metadata": {},
   "outputs": [
    {
     "name": "stdout",
     "output_type": "stream",
     "text": [
      "Before Differentiation : sin(x)*cos(x)\n",
      "After Differentiation : -sin(x)**2 + cos(x)**2\n"
     ]
    }
   ],
   "source": [
    "z_exp = sin(x)*cos(x)\n",
    "  \n",
    "print(\"Before Differentiation : {}\".format(z_exp))\n",
    "  \n",
    "# Use sympy.diff() method\n",
    "dif = diff(z_exp, x)\n",
    "  \n",
    "print(\"After Differentiation : {}\".format(dif))"
   ]
  },
  {
   "cell_type": "code",
   "execution_count": 3,
   "metadata": {},
   "outputs": [],
   "source": [
    "x = sy.Symbol('x', real = True)"
   ]
  },
  {
   "cell_type": "code",
   "execution_count": 4,
   "metadata": {},
   "outputs": [
    {
     "data": {
      "text/latex": [
       "$\\displaystyle 4 x + 4$"
      ],
      "text/plain": [
       "4*x + 4"
      ]
     },
     "execution_count": 4,
     "metadata": {},
     "output_type": "execute_result"
    }
   ],
   "source": [
    "y = 2*x**2 + 4*x - 1\n",
    "y1 = y.diff(x)\n",
    "y1"
   ]
  },
  {
   "cell_type": "code",
   "execution_count": 5,
   "metadata": {},
   "outputs": [
    {
     "data": {
      "text/latex": [
       "$\\displaystyle \\left[\\begin{matrix}p^{2} q + q\\\\2 p q - 2\\end{matrix}\\right]$"
      ],
      "text/plain": [
       "Matrix([\n",
       "[p**2*q + q],\n",
       "[ 2*p*q - 2]])"
      ]
     },
     "execution_count": 5,
     "metadata": {},
     "output_type": "execute_result"
    }
   ],
   "source": [
    "p, q, z = sy.symbols('p q z')\n",
    "f = sy.Matrix([p**2*q+q, 2*p*q-2])\n",
    "f"
   ]
  },
  {
   "cell_type": "code",
   "execution_count": 6,
   "metadata": {},
   "outputs": [
    {
     "data": {
      "text/latex": [
       "$\\displaystyle \\left[\\begin{matrix}x\\\\2 x^{2} + 4 x - 1\\end{matrix}\\right]$"
      ],
      "text/plain": [
       "Matrix([\n",
       "[               x],\n",
       "[2*x**2 + 4*x - 1]])"
      ]
     },
     "execution_count": 6,
     "metadata": {},
     "output_type": "execute_result"
    }
   ],
   "source": [
    "X = sy.Matrix([x,y])\n",
    "X"
   ]
  }
 ],
 "metadata": {
  "interpreter": {
   "hash": "213524bb45a1aeaf737b1d8c77d7b8db5d425938d9dffc5f4bc6fe6dd3324700"
  },
  "kernelspec": {
   "display_name": "Python 3.10.2 64-bit",
   "language": "python",
   "name": "python3"
  },
  "language_info": {
   "codemirror_mode": {
    "name": "ipython",
    "version": 3
   },
   "file_extension": ".py",
   "mimetype": "text/x-python",
   "name": "python",
   "nbconvert_exporter": "python",
   "pygments_lexer": "ipython3",
   "version": "3.10.2"
  },
  "orig_nbformat": 4
 },
 "nbformat": 4,
 "nbformat_minor": 2
}
